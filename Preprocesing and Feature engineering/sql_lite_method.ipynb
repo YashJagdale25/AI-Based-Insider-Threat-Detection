{
 "cells": [
  {
   "cell_type": "code",
   "execution_count": null,
   "metadata": {},
   "outputs": [],
   "source": [
    "import sqlite3\n",
    "import pandas as pd\n",
    "\n",
    "# Load datasets\n",
    "logon_df = pd.read_csv('logon_cleaned.csv')\n",
    "email_df = pd.read_csv('email_cleaned.csv')\n",
    "file_df = pd.read_csv('file_cleaned.csv')\n",
    "device_df = pd.read_csv('device_cleaned.csv')\n",
    "\n",
    "# Rename columns for consistency\n",
    "logon_df.rename(columns={'user_id': 'user'}, inplace=True)\n",
    "\n",
    "# Convert time columns to datetime format\n",
    "logon_df['start_time'] = pd.to_datetime(logon_df['start_time'])\n",
    "logon_df['end_time'] = pd.to_datetime(logon_df['end_time'])\n",
    "email_df['date'] = pd.to_datetime(email_df['date'])\n",
    "file_df['date'] = pd.to_datetime(file_df['date'])\n",
    "device_df['date'] = pd.to_datetime(device_df['date'])\n",
    "\n",
    "# Extract only the date part for proper merging\n",
    "logon_df['date'] = logon_df['start_time'].dt.date\n",
    "email_df['date'] = email_df['date'].dt.date\n",
    "file_df['date'] = file_df['date'].dt.date\n",
    "device_df['date'] = device_df['date'].dt.date\n",
    "\n",
    "# Connect to SQLite database\n",
    "db_path = \"insider_threat.db\"\n",
    "conn = sqlite3.connect(db_path)\n",
    "\n",
    "# Save DataFrames to SQLite\n",
    "logon_df.to_sql(\"logon\", conn, if_exists=\"replace\", index=False)\n",
    "email_df.to_sql(\"email\", conn, if_exists=\"replace\", index=False)\n",
    "file_df.to_sql(\"file\", conn, if_exists=\"replace\", index=False)\n",
    "device_df.to_sql(\"device\", conn, if_exists=\"replace\", index=False)\n",
    "\n",
    "# SQL Query to aggregate user activities per day\n",
    "query = \"\"\"\n",
    "    WITH Logon_Aggregate AS (\n",
    "        SELECT \n",
    "            user, \n",
    "            date,\n",
    "            MIN(start_time) AS first_logon_time,\n",
    "            MAX(end_time) AS last_logoff_time,\n",
    "            SUM((JULIANDAY(end_time) - JULIANDAY(start_time)) * 86400) AS total_working_seconds,\n",
    "            SUM(logon_on_own_pc) AS total_logon_own_pc,\n",
    "            SUM(logon_on_other_pc) AS total_logon_other_pc,\n",
    "            SUM(logon_on_own_pc_normal) AS total_logon_own_pc_normal,\n",
    "            SUM(logon_on_own_pc_off_hour) AS total_logon_own_pc_off,\n",
    "            SUM(logon_on_other_pc_normal) AS total_logon_other_pc_normal,\n",
    "            SUM(logon_on_other_pc_off_hour) AS total_logon_other_pc_off\n",
    "        FROM logon\n",
    "        GROUP BY user, date\n",
    "    ),\n",
    "    Email_Aggregate AS (\n",
    "        SELECT \n",
    "            user, \n",
    "            date,\n",
    "            SUM(int_to_int_mails + int_to_out_mails + out_to_int_mails + out_to_out_mails) AS total_emails_sent,\n",
    "            SUM(after_hour_mails) AS after_hour_emails,\n",
    "            SUM(internal_recipients) AS total_internal_recipients,\n",
    "            SUM(external_recipients) AS total_external_recipients,\n",
    "            SUM(distinct_bcc) AS total_bcc_recipients,\n",
    "            SUM(mails_with_attachments) AS mails_with_attachments\n",
    "        FROM email\n",
    "        GROUP BY user, date\n",
    "    ),\n",
    "    File_Aggregate AS (\n",
    "        SELECT \n",
    "            user, \n",
    "            date,\n",
    "            SUM(documents_copy_own_pc) AS documents_copy_own_pc,\n",
    "            SUM(documents_copy_other_pc) AS documents_copy_other_pc,\n",
    "            SUM(program_files_copy_own_pc) AS program_files_copy_own_pc,\n",
    "            SUM(program_files_copy_other_pc) AS program_files_copy_other_pc,\n",
    "            SUM(documents_copy_own_pc_off_hour) AS documents_copy_own_pc_off_hour,\n",
    "            SUM(documents_copy_other_pc_off_hour) AS documents_copy_other_pc_off_hour,\n",
    "            SUM(program_files_copy_own_pc_off_hour) AS program_files_copy_own_pc_off_hour,\n",
    "            SUM(program_files_copy_other_pc_off_hour) AS program_files_copy_other_pc_off_hour\n",
    "        FROM file\n",
    "        GROUP BY user, date\n",
    "    ),\n",
    "    Device_Aggregate AS (\n",
    "        SELECT \n",
    "            user, \n",
    "            date,\n",
    "            SUM(device_connects_on_own_pc_normal_hour) AS device_connects_on_own_pc_normal_hour,\n",
    "            SUM(device_connects_on_other_pc_normal_hour) AS device_connects_on_other_pc_normal_hour,\n",
    "            SUM(device_connects_on_own_pc_off_hour) AS device_connects_on_own_pc_off_hour,\n",
    "            SUM(device_connects_on_other_pc_off_hour) AS device_connects_on_other_pc_off_hour\n",
    "        FROM device\n",
    "        GROUP BY user, date\n",
    "    )\n",
    "    SELECT \n",
    "        l.user, \n",
    "        l.date,\n",
    "        l.first_logon_time,\n",
    "        l.last_logoff_time,\n",
    "        l.total_working_seconds,\n",
    "        l.total_logon_own_pc,\n",
    "        l.total_logon_other_pc,\n",
    "        l.total_logon_own_pc_normal,\n",
    "        l.total_logon_own_pc_off,\n",
    "        l.total_logon_other_pc_normal,\n",
    "        l.total_logon_other_pc_off,\n",
    "        COALESCE(e.total_emails_sent, 0) AS total_emails_sent,\n",
    "        COALESCE(e.after_hour_emails, 0) AS after_hour_emails,\n",
    "        COALESCE(e.total_internal_recipients, 0) AS total_internal_recipients,\n",
    "        COALESCE(e.total_external_recipients, 0) AS total_external_recipients,\n",
    "        COALESCE(e.total_bcc_recipients, 0) AS total_bcc_recipients,\n",
    "        COALESCE(e.mails_with_attachments, 0) AS mails_with_attachments,\n",
    "        COALESCE(f.documents_copy_own_pc, 0) AS documents_copy_own_pc,\n",
    "        COALESCE(f.documents_copy_other_pc, 0) AS documents_copy_other_pc,\n",
    "        COALESCE(f.program_files_copy_own_pc, 0) AS program_files_copy_own_pc,\n",
    "        COALESCE(f.program_files_copy_other_pc, 0) AS program_files_copy_other_pc,\n",
    "        COALESCE(f.documents_copy_own_pc_off_hour, 0) AS documents_copy_own_pc_off_hour,\n",
    "        COALESCE(f.documents_copy_other_pc_off_hour, 0) AS documents_copy_other_pc_off_hour,\n",
    "        COALESCE(f.program_files_copy_own_pc_off_hour, 0) AS program_files_copy_own_pc_off_hour,\n",
    "        COALESCE(f.program_files_copy_other_pc_off_hour, 0) AS program_files_copy_other_pc_off_hour,\n",
    "        COALESCE(d.device_connects_on_own_pc_normal_hour, 0) AS device_connects_on_own_pc_normal_hour,\n",
    "        COALESCE(d.device_connects_on_other_pc_normal_hour, 0) AS device_connects_on_other_pc_normal_hour,\n",
    "        COALESCE(d.device_connects_on_own_pc_off_hour, 0) AS device_connects_on_own_pc_off_hour,\n",
    "        COALESCE(d.device_connects_on_other_pc_off_hour, 0) AS device_connects_on_other_pc_off_hour\n",
    "    FROM Logon_Aggregate l\n",
    "    LEFT JOIN Email_Aggregate e ON l.user = e.user AND l.date = e.date\n",
    "    LEFT JOIN File_Aggregate f ON l.user = f.user AND l.date = f.date\n",
    "    LEFT JOIN Device_Aggregate d ON l.user = d.user AND l.date = d.date;\n",
    "\"\"\"\n",
    "\n",
    "# Execute query and save results\n",
    "feature_vector = pd.read_sql_query(query, conn)\n",
    "\n",
    "# Save to CSV\n",
    "feature_vector.to_csv(\"feature_vector.csv\", index=False)\n",
    "\n",
    "print(\"Feature vector generated and saved as 'feature_vector.csv' successfully!\")\n",
    "\n",
    "# Close connection\n",
    "conn.close()\n"
   ]
  },
  {
   "cell_type": "code",
   "execution_count": 49,
   "metadata": {},
   "outputs": [],
   "source": [
    "import pandas as pd\n",
    "data=pd.read_csv('feature_vector.csv')"
   ]
  },
  {
   "cell_type": "code",
   "execution_count": null,
   "metadata": {},
   "outputs": [],
   "source": [
    "data.info()"
   ]
  },
  {
   "cell_type": "code",
   "execution_count": null,
   "metadata": {},
   "outputs": [],
   "source": [
    "data.isnull().sum()"
   ]
  },
  {
   "cell_type": "code",
   "execution_count": null,
   "metadata": {},
   "outputs": [],
   "source": [
    "data.head()"
   ]
  },
  {
   "cell_type": "code",
   "execution_count": null,
   "metadata": {},
   "outputs": [],
   "source": [
    "data['user'].nunique()"
   ]
  },
  {
   "cell_type": "code",
   "execution_count": null,
   "metadata": {},
   "outputs": [],
   "source": [
    "data.columns"
   ]
  },
  {
   "cell_type": "code",
   "execution_count": null,
   "metadata": {},
   "outputs": [],
   "source": [
    "data['device_connects_on_other_pc_off_hour'].value_counts()"
   ]
  },
  {
   "cell_type": "code",
   "execution_count": 56,
   "metadata": {},
   "outputs": [],
   "source": [
    "threat=pd.read_csv('insiders.csv')"
   ]
  },
  {
   "cell_type": "code",
   "execution_count": null,
   "metadata": {},
   "outputs": [],
   "source": [
    "threat.head()\n"
   ]
  },
  {
   "cell_type": "code",
   "execution_count": 58,
   "metadata": {},
   "outputs": [],
   "source": [
    "threat.drop(columns=['dataset','details','end'],inplace=True)"
   ]
  },
  {
   "cell_type": "code",
   "execution_count": null,
   "metadata": {},
   "outputs": [],
   "source": [
    "threat.head()"
   ]
  },
  {
   "cell_type": "code",
   "execution_count": 17,
   "metadata": {},
   "outputs": [
    {
     "name": "stderr",
     "output_type": "stream",
     "text": [
      "/var/folders/x6/927q59w17dg3mzfmhv4v0g6r0000gn/T/ipykernel_2525/3980601641.py:10: UserWarning: Could not infer format, so each element will be parsed individually, falling back to `dateutil`. To ensure parsing is consistent and as-expected, please specify a format.\n",
      "  insiders_df[\"first_logon_time\"] = pd.to_datetime(insiders_df[\"first_logon_time\"])\n"
     ]
    }
   ],
   "source": [
    "import pandas as pd\n",
    "\n",
    "# Load CSV files into Pandas DataFrames\n",
    "feature_vector_df = pd.read_csv(\"feature_vector.csv\")\n",
    "insiders_df = pd.read_csv(\"/Users/truptijagdale/Desktop/tensorflow_env/anomaly (1).csv\")\n",
    "insiders_df.rename(columns={\"start\": \"first_logon_time\", \"end\": \"last_logoff_time\",'user_id_decoded':'user'}, inplace=True)\n",
    "# Ensure timestamps are in datetime format\n",
    "feature_vector_df[\"first_logon_time\"] = pd.to_datetime(feature_vector_df[\"first_logon_time\"])\n",
    "feature_vector_df[\"last_logoff_time\"] = pd.to_datetime(feature_vector_df[\"last_logoff_time\"])\n",
    "insiders_df[\"first_logon_time\"] = pd.to_datetime(insiders_df[\"first_logon_time\"])"
   ]
  },
  {
   "cell_type": "code",
   "execution_count": 18,
   "metadata": {},
   "outputs": [
    {
     "data": {
      "text/plain": [
       "Index(['user', 'first_logon_time', 'last_logoff_time'], dtype='object')"
      ]
     },
     "execution_count": 18,
     "metadata": {},
     "output_type": "execute_result"
    }
   ],
   "source": [
    "insiders_df.columns"
   ]
  },
  {
   "cell_type": "code",
   "execution_count": 22,
   "metadata": {},
   "outputs": [
    {
     "data": {
      "text/plain": [
       "user                0\n",
       "first_logon_time    0\n",
       "last_logoff_time    0\n",
       "dtype: int64"
      ]
     },
     "execution_count": 22,
     "metadata": {},
     "output_type": "execute_result"
    }
   ],
   "source": [
    "insiders_df.isnull().sum()"
   ]
  },
  {
   "cell_type": "code",
   "execution_count": 21,
   "metadata": {},
   "outputs": [],
   "source": [
    "insiders_df.dropna(inplace=True)"
   ]
  },
  {
   "cell_type": "code",
   "execution_count": 23,
   "metadata": {},
   "outputs": [
    {
     "name": "stdout",
     "output_type": "stream",
     "text": [
      "      user        date    first_logon_time    last_logoff_time  \\\n",
      "0  AAE0190  2010-01-04 2010-01-04 08:09:00 2010-01-04 18:20:00   \n",
      "1  AAE0190  2010-01-05 2010-01-05 08:19:00 2010-01-05 18:11:00   \n",
      "2  AAE0190  2010-01-06 2010-01-06 08:09:00 2010-01-06 18:10:00   \n",
      "3  AAE0190  2010-01-07 2010-01-07 08:23:00 2010-01-07 18:14:00   \n",
      "4  AAE0190  2010-01-08 2010-01-08 08:17:00 2010-01-08 18:26:00   \n",
      "5  AAE0190  2010-01-11 2010-01-11 08:09:00 2010-01-11 18:24:00   \n",
      "6  AAE0190  2010-01-12 2010-01-12 08:12:00 2010-01-12 18:30:00   \n",
      "7  AAE0190  2010-01-13 2010-01-13 08:15:00 2010-01-13 18:14:00   \n",
      "8  AAE0190  2010-01-14 2010-01-14 08:14:00 2010-01-14 18:29:00   \n",
      "9  AAE0190  2010-01-15 2010-01-15 08:19:00 2010-01-15 18:13:00   \n",
      "\n",
      "   total_working_seconds  total_logon_own_pc  total_logon_other_pc  \\\n",
      "0           36660.000028                   1                     0   \n",
      "1           35520.000015                   1                     0   \n",
      "2           36060.000023                   1                     0   \n",
      "3           35459.999979                   1                     0   \n",
      "4           36539.999995                   1                     0   \n",
      "5           36900.000013                   1                     0   \n",
      "6           37080.000003                   1                     0   \n",
      "7           35939.999990                   1                     0   \n",
      "8           36900.000013                   1                     0   \n",
      "9           35640.000008                   1                     0   \n",
      "\n",
      "   total_logon_own_pc_normal  total_logon_own_pc_off  \\\n",
      "0                          1                       0   \n",
      "1                          1                       0   \n",
      "2                          1                       0   \n",
      "3                          1                       0   \n",
      "4                          1                       0   \n",
      "5                          1                       0   \n",
      "6                          1                       0   \n",
      "7                          1                       0   \n",
      "8                          1                       0   \n",
      "9                          1                       0   \n",
      "\n",
      "   total_logon_other_pc_normal  ...  program_files_copy_other_pc  \\\n",
      "0                            0  ...                            0   \n",
      "1                            0  ...                            0   \n",
      "2                            0  ...                            0   \n",
      "3                            0  ...                            0   \n",
      "4                            0  ...                            0   \n",
      "5                            0  ...                            0   \n",
      "6                            0  ...                            0   \n",
      "7                            0  ...                            0   \n",
      "8                            0  ...                            0   \n",
      "9                            0  ...                            0   \n",
      "\n",
      "   documents_copy_own_pc_off_hour  documents_copy_other_pc_off_hour  \\\n",
      "0                               0                                 0   \n",
      "1                               0                                 0   \n",
      "2                               0                                 0   \n",
      "3                               0                                 0   \n",
      "4                               0                                 0   \n",
      "5                               0                                 0   \n",
      "6                               0                                 0   \n",
      "7                               0                                 0   \n",
      "8                               0                                 0   \n",
      "9                               0                                 0   \n",
      "\n",
      "   program_files_copy_own_pc_off_hour  program_files_copy_other_pc_off_hour  \\\n",
      "0                                   0                                     0   \n",
      "1                                   0                                     0   \n",
      "2                                   0                                     0   \n",
      "3                                   0                                     0   \n",
      "4                                   0                                     0   \n",
      "5                                   0                                     0   \n",
      "6                                   0                                     0   \n",
      "7                                   0                                     0   \n",
      "8                                   0                                     0   \n",
      "9                                   0                                     0   \n",
      "\n",
      "   device_connects_on_own_pc_normal_hour  \\\n",
      "0                                      0   \n",
      "1                                      0   \n",
      "2                                      0   \n",
      "3                                      0   \n",
      "4                                      0   \n",
      "5                                      0   \n",
      "6                                      0   \n",
      "7                                      0   \n",
      "8                                      0   \n",
      "9                                      0   \n",
      "\n",
      "   device_connects_on_other_pc_normal_hour  \\\n",
      "0                                        0   \n",
      "1                                        0   \n",
      "2                                        0   \n",
      "3                                        0   \n",
      "4                                        0   \n",
      "5                                        0   \n",
      "6                                        0   \n",
      "7                                        0   \n",
      "8                                        0   \n",
      "9                                        0   \n",
      "\n",
      "   device_connects_on_own_pc_off_hour  device_connects_on_other_pc_off_hour  \\\n",
      "0                                   0                                     0   \n",
      "1                                   0                                     0   \n",
      "2                                   0                                     0   \n",
      "3                                   0                                     0   \n",
      "4                                   0                                     0   \n",
      "5                                   0                                     0   \n",
      "6                                   0                                     0   \n",
      "7                                   0                                     0   \n",
      "8                                   0                                     0   \n",
      "9                                   0                                     0   \n",
      "\n",
      "   is_anomaly  \n",
      "0           0  \n",
      "1           0  \n",
      "2           0  \n",
      "3           0  \n",
      "4           0  \n",
      "5           0  \n",
      "6           0  \n",
      "7           0  \n",
      "8           0  \n",
      "9           0  \n",
      "\n",
      "[10 rows x 30 columns]\n"
     ]
    }
   ],
   "source": [
    "\n",
    "# Initialize 'is_anomaly' column with 0 (default: not an anomaly)\n",
    "feature_vector_df[\"is_anomaly\"] = 0\n",
    "\n",
    "# Iterate over each row in insiders_df and mark anomalies in feature_vector_df\n",
    "for _, insider in insiders_df.iterrows():\n",
    "    mask = (\n",
    "        (feature_vector_df[\"user\"] == insider[\"user\"]) &\n",
    "        (feature_vector_df[\"first_logon_time\"] <= insider[\"first_logon_time\"]) &\n",
    "        (feature_vector_df[\"last_logoff_time\"] >= insider[\"first_logon_time\"])\n",
    "    )\n",
    "    feature_vector_df.loc[mask, \"is_anomaly\"] = 1  # Mark as anomaly\n",
    "\n",
    "# Save the updated DataFrame with the 'is_anomaly' column\n",
    "feature_vector_df.to_csv(\"merged_data.csv\", index=False)\n",
    "\n",
    "# Display first 10 rows\n",
    "print(feature_vector_df.head(10))\n"
   ]
  },
  {
   "cell_type": "code",
   "execution_count": 24,
   "metadata": {},
   "outputs": [
    {
     "data": {
      "text/plain": [
       "Index(['user', 'date', 'first_logon_time', 'last_logoff_time',\n",
       "       'total_working_seconds', 'total_logon_own_pc', 'total_logon_other_pc',\n",
       "       'total_logon_own_pc_normal', 'total_logon_own_pc_off',\n",
       "       'total_logon_other_pc_normal', 'total_logon_other_pc_off',\n",
       "       'total_emails_sent', 'after_hour_emails', 'total_internal_recipients',\n",
       "       'total_external_recipients', 'total_bcc_recipients',\n",
       "       'mails_with_attachments', 'documents_copy_own_pc',\n",
       "       'documents_copy_other_pc', 'program_files_copy_own_pc',\n",
       "       'program_files_copy_other_pc', 'documents_copy_own_pc_off_hour',\n",
       "       'documents_copy_other_pc_off_hour',\n",
       "       'program_files_copy_own_pc_off_hour',\n",
       "       'program_files_copy_other_pc_off_hour',\n",
       "       'device_connects_on_own_pc_normal_hour',\n",
       "       'device_connects_on_other_pc_normal_hour',\n",
       "       'device_connects_on_own_pc_off_hour',\n",
       "       'device_connects_on_other_pc_off_hour', 'is_anomaly'],\n",
       "      dtype='object')"
      ]
     },
     "execution_count": 24,
     "metadata": {},
     "output_type": "execute_result"
    }
   ],
   "source": [
    "feature_vector_df.columns"
   ]
  },
  {
   "cell_type": "code",
   "execution_count": 25,
   "metadata": {},
   "outputs": [
    {
     "data": {
      "text/plain": [
       "is_anomaly\n",
       "0    307753\n",
       "1     22515\n",
       "Name: count, dtype: int64"
      ]
     },
     "execution_count": 25,
     "metadata": {},
     "output_type": "execute_result"
    }
   ],
   "source": [
    "feature_vector_df['is_anomaly'].value_counts()"
   ]
  },
  {
   "cell_type": "code",
   "execution_count": 26,
   "metadata": {},
   "outputs": [
    {
     "data": {
      "text/plain": [
       "user                                       0\n",
       "date                                       0\n",
       "first_logon_time                           0\n",
       "last_logoff_time                           0\n",
       "total_working_seconds                      0\n",
       "total_logon_own_pc                         0\n",
       "total_logon_other_pc                       0\n",
       "total_logon_own_pc_normal                  0\n",
       "total_logon_own_pc_off                     0\n",
       "total_logon_other_pc_normal                0\n",
       "total_logon_other_pc_off                   0\n",
       "total_emails_sent                          0\n",
       "after_hour_emails                          0\n",
       "total_internal_recipients                  0\n",
       "total_external_recipients                  0\n",
       "total_bcc_recipients                       0\n",
       "mails_with_attachments                     0\n",
       "documents_copy_own_pc                      0\n",
       "documents_copy_other_pc                    0\n",
       "program_files_copy_own_pc                  0\n",
       "program_files_copy_other_pc                0\n",
       "documents_copy_own_pc_off_hour             0\n",
       "documents_copy_other_pc_off_hour           0\n",
       "program_files_copy_own_pc_off_hour         0\n",
       "program_files_copy_other_pc_off_hour       0\n",
       "device_connects_on_own_pc_normal_hour      0\n",
       "device_connects_on_other_pc_normal_hour    0\n",
       "device_connects_on_own_pc_off_hour         0\n",
       "device_connects_on_other_pc_off_hour       0\n",
       "is_anomaly                                 0\n",
       "dtype: int64"
      ]
     },
     "execution_count": 26,
     "metadata": {},
     "output_type": "execute_result"
    }
   ],
   "source": [
    "feature_vector_df.isnull().sum()"
   ]
  },
  {
   "cell_type": "code",
   "execution_count": 27,
   "metadata": {},
   "outputs": [
    {
     "data": {
      "text/plain": [
       "(330268, 30)"
      ]
     },
     "execution_count": 27,
     "metadata": {},
     "output_type": "execute_result"
    }
   ],
   "source": [
    "feature_vector_df.shape"
   ]
  },
  {
   "cell_type": "code",
   "execution_count": 28,
   "metadata": {},
   "outputs": [],
   "source": [
    "feature_vector_df.drop_duplicates(inplace=True)"
   ]
  },
  {
   "cell_type": "code",
   "execution_count": 29,
   "metadata": {},
   "outputs": [
    {
     "data": {
      "text/plain": [
       "(330268, 30)"
      ]
     },
     "execution_count": 29,
     "metadata": {},
     "output_type": "execute_result"
    }
   ],
   "source": [
    "feature_vector_df.shape"
   ]
  },
  {
   "cell_type": "code",
   "execution_count": 30,
   "metadata": {},
   "outputs": [],
   "source": [
    "feature_vector_df.to_csv('final_feature_vector.csv',index=False)"
   ]
  }
 ],
 "metadata": {
  "kernelspec": {
   "display_name": "tensorflow_venv",
   "language": "python",
   "name": "python3"
  },
  "language_info": {
   "codemirror_mode": {
    "name": "ipython",
    "version": 3
   },
   "file_extension": ".py",
   "mimetype": "text/x-python",
   "name": "python",
   "nbconvert_exporter": "python",
   "pygments_lexer": "ipython3",
   "version": "3.12.7"
  }
 },
 "nbformat": 4,
 "nbformat_minor": 2
}
