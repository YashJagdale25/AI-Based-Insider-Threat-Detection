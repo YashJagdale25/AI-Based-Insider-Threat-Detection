{
 "cells": [
  {
   "cell_type": "code",
   "execution_count": 1,
   "metadata": {},
   "outputs": [],
   "source": [
    "import pandas as pd\n",
    "email_df=pd.read_csv('email.csv')"
   ]
  },
  {
   "cell_type": "code",
   "execution_count": 2,
   "metadata": {},
   "outputs": [
    {
     "data": {
      "text/plain": [
       "id                   0\n",
       "date                 0\n",
       "user                 0\n",
       "pc                   0\n",
       "to                   0\n",
       "cc             1617054\n",
       "bcc            2212977\n",
       "from                 0\n",
       "size                 0\n",
       "attachments          0\n",
       "content              0\n",
       "dtype: int64"
      ]
     },
     "execution_count": 2,
     "metadata": {},
     "output_type": "execute_result"
    }
   ],
   "source": [
    "email_df.isnull().sum()"
   ]
  },
  {
   "cell_type": "code",
   "execution_count": 3,
   "metadata": {},
   "outputs": [],
   "source": [
    "email_df['date'] = pd.to_datetime(email_df['date'], errors='coerce')\n",
    "\n"
   ]
  },
  {
   "cell_type": "code",
   "execution_count": 4,
   "metadata": {},
   "outputs": [
    {
     "data": {
      "text/plain": [
       "id                   0\n",
       "date                 0\n",
       "user                 0\n",
       "pc                   0\n",
       "to                   0\n",
       "cc             1617054\n",
       "bcc            2212977\n",
       "from                 0\n",
       "size                 0\n",
       "attachments          0\n",
       "content              0\n",
       "dtype: int64"
      ]
     },
     "execution_count": 4,
     "metadata": {},
     "output_type": "execute_result"
    }
   ],
   "source": [
    "email_df.isnull().sum()"
   ]
  },
  {
   "cell_type": "code",
   "execution_count": 5,
   "metadata": {},
   "outputs": [
    {
     "name": "stdout",
     "output_type": "stream",
     "text": [
      "         total_emails  int_to_int_mails  int_to_out_mails  out_to_int_mails  \\\n",
      "0                1420                 0                 1                 0   \n",
      "1                3463                 0                 0                 0   \n",
      "2                1420                 0                 0                 0   \n",
      "3                1420                 0                 0                 0   \n",
      "4                3463                 0                 0                 0   \n",
      "...               ...               ...               ...               ...   \n",
      "2629974          2988                 1                 0                 0   \n",
      "2629975          3025                 1                 0                 0   \n",
      "2629976          3025                 0                 0                 0   \n",
      "2629977          1007                 1                 0                 0   \n",
      "2629978          1021                 0                 0                 0   \n",
      "\n",
      "         out_to_out_mails  internal_recipients  external_recipients  \\\n",
      "0                       0                    1                    1   \n",
      "1                       1                    0                    1   \n",
      "2                       1                    0                    1   \n",
      "3                       1                    0                    1   \n",
      "4                       1                    0                    3   \n",
      "...                   ...                  ...                  ...   \n",
      "2629974                 0                    2                    0   \n",
      "2629975                 0                    1                    0   \n",
      "2629976                 1                    0                    2   \n",
      "2629977                 0                    1                    0   \n",
      "2629978                 1                    0                    1   \n",
      "\n",
      "         distinct_bcc  mails_with_attachments  after_hour_mails  \n",
      "0                   0                       0                 1  \n",
      "1                   0                       0                 1  \n",
      "2                   0                       0                 1  \n",
      "3                   0                       0                 1  \n",
      "4                   1                       0                 1  \n",
      "...               ...                     ...               ...  \n",
      "2629974             0                       0                 1  \n",
      "2629975             0                       1                 1  \n",
      "2629976             0                       1                 1  \n",
      "2629977             0                       0                 1  \n",
      "2629978             0                       0                 1  \n",
      "\n",
      "[2629979 rows x 10 columns]\n"
     ]
    }
   ],
   "source": [
    "\n",
    "# Define normal working hours (8 AM to 6 PM)\n",
    "work_hour_start = 8\n",
    "work_hour_end = 18\n",
    "\n",
    "# Function to identify if an email is internal or external based on domain\n",
    "def is_internal(email):\n",
    "    # Assuming internal domain is \"dtaa.com\" (adjust as per your dataset's domain)\n",
    "    internal_domain = \"dtaa.com\"\n",
    "    return internal_domain in email.lower()\n",
    "\n",
    "# Count total emails per user\n",
    "email_df['total_emails'] = email_df.groupby('user')['user'].transform('count')\n",
    "\n",
    "# Extract internal-to-internal, internal-to-external, external-to-internal, and external-to-external emails\n",
    "email_df['int_to_int_mails'] = email_df.apply(lambda row: is_internal(row['from']) and all(is_internal(email) for email in row['to'].split(';') if email), axis=1).astype(int)\n",
    "email_df['int_to_out_mails'] = email_df.apply(lambda row: is_internal(row['from']) and not all(is_internal(email) for email in row['to'].split(';') if email), axis=1).astype(int)\n",
    "email_df['out_to_int_mails'] = email_df.apply(lambda row: not is_internal(row['from']) and all(is_internal(email) for email in row['to'].split(';') if email), axis=1).astype(int)\n",
    "email_df['out_to_out_mails'] = email_df.apply(lambda row: not is_internal(row['from']) and not all(is_internal(email) for email in row['to'].split(';') if email), axis=1).astype(int)\n",
    "\n",
    "# Count internal and external recipients\n",
    "email_df['internal_recipients'] = email_df['to'].apply(lambda x: sum(1 for email in x.split(';') if is_internal(email)))\n",
    "email_df['external_recipients'] = email_df['to'].apply(lambda x: sum(1 for email in x.split(';') if not is_internal(email)))\n",
    "\n",
    "# Count distinct BCC recipients (if any)\n",
    "email_df['distinct_bcc'] = email_df['bcc'].apply(lambda x: len(set(x.split(';'))) if pd.notna(x) else 0)\n",
    "\n",
    "# Count emails with attachments (based on 'attachments' column)\n",
    "email_df['mails_with_attachments'] = email_df['attachments'].apply(lambda x: 1 if x > 0 else 0)\n",
    "\n",
    "# Check if the email was sent after work hours (before 9 AM or after 6 PM)\n",
    "email_df['after_hour_mails'] = email_df['date'].dt.hour.apply(lambda x: 1 if x < work_hour_start or x >= work_hour_end else 0)\n",
    "\n",
    "# Print or return the dataframe with the newly extracted features\n",
    "print(email_df[['total_emails', 'int_to_int_mails', 'int_to_out_mails', 'out_to_int_mails', 'out_to_out_mails', \n",
    "                'internal_recipients', 'external_recipients', 'distinct_bcc', 'mails_with_attachments', 'after_hour_mails']])\n"
   ]
  },
  {
   "cell_type": "code",
   "execution_count": 6,
   "metadata": {},
   "outputs": [],
   "source": [
    "email_df.drop(columns=['id','from','to','cc','bcc','attachments','content','total_emails','size'], inplace=True)"
   ]
  },
  {
   "cell_type": "code",
   "execution_count": 7,
   "metadata": {},
   "outputs": [
    {
     "data": {
      "text/plain": [
       "date                      0\n",
       "user                      0\n",
       "pc                        0\n",
       "int_to_int_mails          0\n",
       "int_to_out_mails          0\n",
       "out_to_int_mails          0\n",
       "out_to_out_mails          0\n",
       "internal_recipients       0\n",
       "external_recipients       0\n",
       "distinct_bcc              0\n",
       "mails_with_attachments    0\n",
       "after_hour_mails          0\n",
       "dtype: int64"
      ]
     },
     "execution_count": 7,
     "metadata": {},
     "output_type": "execute_result"
    }
   ],
   "source": [
    "email_df.isnull().sum()"
   ]
  },
  {
   "cell_type": "code",
   "execution_count": 8,
   "metadata": {},
   "outputs": [
    {
     "name": "stdout",
     "output_type": "stream",
     "text": [
      "<class 'pandas.core.frame.DataFrame'>\n",
      "RangeIndex: 2629979 entries, 0 to 2629978\n",
      "Data columns (total 12 columns):\n",
      " #   Column                  Dtype         \n",
      "---  ------                  -----         \n",
      " 0   date                    datetime64[ns]\n",
      " 1   user                    object        \n",
      " 2   pc                      object        \n",
      " 3   int_to_int_mails        int64         \n",
      " 4   int_to_out_mails        int64         \n",
      " 5   out_to_int_mails        int64         \n",
      " 6   out_to_out_mails        int64         \n",
      " 7   internal_recipients     int64         \n",
      " 8   external_recipients     int64         \n",
      " 9   distinct_bcc            int64         \n",
      " 10  mails_with_attachments  int64         \n",
      " 11  after_hour_mails        int64         \n",
      "dtypes: datetime64[ns](1), int64(9), object(2)\n",
      "memory usage: 240.8+ MB\n"
     ]
    }
   ],
   "source": [
    "email_df.info()"
   ]
  },
  {
   "cell_type": "code",
   "execution_count": 9,
   "metadata": {},
   "outputs": [],
   "source": [
    "\n",
    "# Sort by user_id and logon_time\n",
    "email_df = email_df.sort_values(by=['user', 'date']).reset_index(drop=True)"
   ]
  },
  {
   "cell_type": "code",
   "execution_count": 10,
   "metadata": {},
   "outputs": [
    {
     "data": {
      "text/plain": [
       "(2629979, 12)"
      ]
     },
     "execution_count": 10,
     "metadata": {},
     "output_type": "execute_result"
    }
   ],
   "source": [
    "email_df.shape"
   ]
  },
  {
   "cell_type": "code",
   "execution_count": 11,
   "metadata": {},
   "outputs": [
    {
     "name": "stdout",
     "output_type": "stream",
     "text": [
      "Total duplicate rows in the dataset: 3938\n",
      "Total duplicate rows based on 'user' and 'date': 17526\n",
      "\n",
      "Some fully duplicated rows:\n",
      "\n",
      "Some duplicate rows based on 'user' and 'date':\n",
      "\n",
      "Duplicates removed. Updated dataset shape: (2612453, 12)\n"
     ]
    }
   ],
   "source": [
    "\n",
    "\n",
    "# Count total duplicate rows\n",
    "total_duplicates =email_df.duplicated().sum()\n",
    "print(f\"Total duplicate rows in the dataset: {total_duplicates}\")\n",
    "\n",
    "# Count duplicates based on 'user' and 'date'\n",
    "column_duplicates = email_df.duplicated(subset=['user', 'date']).sum()\n",
    "print(f\"Total duplicate rows based on 'user' and 'date': {column_duplicates}\")\n",
    "\n",
    "# Display duplicate rows (full duplicates)\n",
    "if total_duplicates > 0:\n",
    "    print(\"\\nSome fully duplicated rows:\")\n",
    "    #print(device_df[device_df.duplicated(keep=False)].head())\n",
    "\n",
    "# Display duplicate rows based on 'user' and 'date'\n",
    "if column_duplicates > 0:\n",
    "    print(\"\\nSome duplicate rows based on 'user' and 'date':\")\n",
    "    #print(device_df[device_df.duplicated(subset=['user', 'date'], keep=False)].head())\n",
    "\n",
    "# Step 1: Remove duplicates based on 'user' and 'date' first\n",
    "email_df = email_df.drop_duplicates(subset=['user', 'date'], keep='first')\n",
    "\n",
    "# Step 2: Remove any remaining fully duplicated rows\n",
    "email_df = email_df.drop_duplicates(keep='first')\n",
    "\n",
    "# Reset index after dropping duplicates\n",
    "email_df = email_df.reset_index(drop=True)\n",
    "\n",
    "# Final dataset shape after cleaning\n",
    "print(\"\\nDuplicates removed. Updated dataset shape:\", email_df.shape)\n"
   ]
  },
  {
   "cell_type": "code",
   "execution_count": 12,
   "metadata": {},
   "outputs": [],
   "source": [
    "email_df.to_csv('email_cleaned.csv', index=False)"
   ]
  }
 ],
 "metadata": {
  "kernelspec": {
   "display_name": "Python 3",
   "language": "python",
   "name": "python3"
  },
  "language_info": {
   "codemirror_mode": {
    "name": "ipython",
    "version": 3
   },
   "file_extension": ".py",
   "mimetype": "text/x-python",
   "name": "python",
   "nbconvert_exporter": "python",
   "pygments_lexer": "ipython3",
   "version": "3.13.1"
  }
 },
 "nbformat": 4,
 "nbformat_minor": 2
}
