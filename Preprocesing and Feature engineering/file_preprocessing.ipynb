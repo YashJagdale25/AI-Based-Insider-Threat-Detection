{
 "cells": [
  {
   "cell_type": "code",
   "execution_count": 1,
   "metadata": {},
   "outputs": [],
   "source": [
    "import pandas as pd\n",
    "file_df=pd.read_csv('file.csv')"
   ]
  },
  {
   "cell_type": "code",
   "execution_count": 2,
   "metadata": {},
   "outputs": [
    {
     "data": {
      "text/html": [
       "<div>\n",
       "<style scoped>\n",
       "    .dataframe tbody tr th:only-of-type {\n",
       "        vertical-align: middle;\n",
       "    }\n",
       "\n",
       "    .dataframe tbody tr th {\n",
       "        vertical-align: top;\n",
       "    }\n",
       "\n",
       "    .dataframe thead th {\n",
       "        text-align: right;\n",
       "    }\n",
       "</style>\n",
       "<table border=\"1\" class=\"dataframe\">\n",
       "  <thead>\n",
       "    <tr style=\"text-align: right;\">\n",
       "      <th></th>\n",
       "      <th>id</th>\n",
       "      <th>date</th>\n",
       "      <th>user</th>\n",
       "      <th>pc</th>\n",
       "      <th>filename</th>\n",
       "      <th>content</th>\n",
       "    </tr>\n",
       "  </thead>\n",
       "  <tbody>\n",
       "    <tr>\n",
       "      <th>0</th>\n",
       "      <td>{L9G8-J9QE34VM-2834VDPB}</td>\n",
       "      <td>01/02/2010 07:23:14</td>\n",
       "      <td>MOH0273</td>\n",
       "      <td>PC-6699</td>\n",
       "      <td>EYPC9Y08.doc</td>\n",
       "      <td>D0-CF-11-E0-A1-B1-1A-E1 during difficulty over...</td>\n",
       "    </tr>\n",
       "    <tr>\n",
       "      <th>1</th>\n",
       "      <td>{H0W6-L4FG38XG-9897XTEN}</td>\n",
       "      <td>01/02/2010 07:26:19</td>\n",
       "      <td>MOH0273</td>\n",
       "      <td>PC-6699</td>\n",
       "      <td>N3LTSU3O.pdf</td>\n",
       "      <td>25-50-44-46-2D carpenters 25 landed strait dis...</td>\n",
       "    </tr>\n",
       "    <tr>\n",
       "      <th>2</th>\n",
       "      <td>{M3Z0-O2KK89OX-5716MBIM}</td>\n",
       "      <td>01/02/2010 08:12:03</td>\n",
       "      <td>HPH0075</td>\n",
       "      <td>PC-2417</td>\n",
       "      <td>D3D3WC9W.doc</td>\n",
       "      <td>D0-CF-11-E0-A1-B1-1A-E1 union 24 declined impo...</td>\n",
       "    </tr>\n",
       "    <tr>\n",
       "      <th>3</th>\n",
       "      <td>{E1I4-S4QS61TG-3652YHKR}</td>\n",
       "      <td>01/02/2010 08:17:00</td>\n",
       "      <td>HPH0075</td>\n",
       "      <td>PC-2417</td>\n",
       "      <td>QCSW62YS.doc</td>\n",
       "      <td>D0-CF-11-E0-A1-B1-1A-E1 becoming period begin ...</td>\n",
       "    </tr>\n",
       "    <tr>\n",
       "      <th>4</th>\n",
       "      <td>{D4R7-E7JL45UX-0067XALT}</td>\n",
       "      <td>01/02/2010 08:24:57</td>\n",
       "      <td>HSB0196</td>\n",
       "      <td>PC-8001</td>\n",
       "      <td>AU75JV6U.jpg</td>\n",
       "      <td>FF-D8</td>\n",
       "    </tr>\n",
       "  </tbody>\n",
       "</table>\n",
       "</div>"
      ],
      "text/plain": [
       "                         id                 date     user       pc  \\\n",
       "0  {L9G8-J9QE34VM-2834VDPB}  01/02/2010 07:23:14  MOH0273  PC-6699   \n",
       "1  {H0W6-L4FG38XG-9897XTEN}  01/02/2010 07:26:19  MOH0273  PC-6699   \n",
       "2  {M3Z0-O2KK89OX-5716MBIM}  01/02/2010 08:12:03  HPH0075  PC-2417   \n",
       "3  {E1I4-S4QS61TG-3652YHKR}  01/02/2010 08:17:00  HPH0075  PC-2417   \n",
       "4  {D4R7-E7JL45UX-0067XALT}  01/02/2010 08:24:57  HSB0196  PC-8001   \n",
       "\n",
       "       filename                                            content  \n",
       "0  EYPC9Y08.doc  D0-CF-11-E0-A1-B1-1A-E1 during difficulty over...  \n",
       "1  N3LTSU3O.pdf  25-50-44-46-2D carpenters 25 landed strait dis...  \n",
       "2  D3D3WC9W.doc  D0-CF-11-E0-A1-B1-1A-E1 union 24 declined impo...  \n",
       "3  QCSW62YS.doc  D0-CF-11-E0-A1-B1-1A-E1 becoming period begin ...  \n",
       "4  AU75JV6U.jpg                                              FF-D8  "
      ]
     },
     "execution_count": 2,
     "metadata": {},
     "output_type": "execute_result"
    }
   ],
   "source": [
    "file_df.head()"
   ]
  },
  {
   "cell_type": "code",
   "execution_count": 3,
   "metadata": {},
   "outputs": [
    {
     "data": {
      "text/plain": [
       "id          0\n",
       "date        0\n",
       "user        0\n",
       "pc          0\n",
       "filename    0\n",
       "content     0\n",
       "dtype: int64"
      ]
     },
     "execution_count": 3,
     "metadata": {},
     "output_type": "execute_result"
    }
   ],
   "source": [
    "file_df.isnull().sum()"
   ]
  },
  {
   "cell_type": "code",
   "execution_count": 4,
   "metadata": {},
   "outputs": [],
   "source": [
    "file_df['date'] = pd.to_datetime(file_df['date'], errors='coerce')"
   ]
  },
  {
   "cell_type": "code",
   "execution_count": 5,
   "metadata": {},
   "outputs": [
    {
     "name": "stdout",
     "output_type": "stream",
     "text": [
      "        documents_copy_own_pc  documents_copy_other_pc  \\\n",
      "0                           1                        0   \n",
      "1                           1                        0   \n",
      "2                           1                        0   \n",
      "3                           1                        0   \n",
      "4                           1                        0   \n",
      "...                       ...                      ...   \n",
      "445576                      1                        0   \n",
      "445577                      1                        0   \n",
      "445578                      1                        0   \n",
      "445579                      1                        0   \n",
      "445580                      1                        0   \n",
      "\n",
      "        program_files_copy_own_pc  program_files_copy_other_pc  \\\n",
      "0                               0                            0   \n",
      "1                               0                            0   \n",
      "2                               0                            0   \n",
      "3                               0                            0   \n",
      "4                               0                            0   \n",
      "...                           ...                          ...   \n",
      "445576                          0                            0   \n",
      "445577                          0                            0   \n",
      "445578                          0                            0   \n",
      "445579                          0                            0   \n",
      "445580                          0                            0   \n",
      "\n",
      "        documents_copy_own_pc_off_hour  documents_copy_other_pc_off_hour  \\\n",
      "0                                    1                                 0   \n",
      "1                                    1                                 0   \n",
      "2                                    0                                 0   \n",
      "3                                    0                                 0   \n",
      "4                                    0                                 0   \n",
      "...                                ...                               ...   \n",
      "445576                               1                                 0   \n",
      "445577                               1                                 0   \n",
      "445578                               1                                 0   \n",
      "445579                               1                                 0   \n",
      "445580                               1                                 0   \n",
      "\n",
      "        program_files_copy_own_pc_off_hour  \\\n",
      "0                                        0   \n",
      "1                                        0   \n",
      "2                                        0   \n",
      "3                                        0   \n",
      "4                                        0   \n",
      "...                                    ...   \n",
      "445576                                   0   \n",
      "445577                                   0   \n",
      "445578                                   0   \n",
      "445579                                   0   \n",
      "445580                                   0   \n",
      "\n",
      "        program_files_copy_other_pc_off_hour  \n",
      "0                                          0  \n",
      "1                                          0  \n",
      "2                                          0  \n",
      "3                                          0  \n",
      "4                                          0  \n",
      "...                                      ...  \n",
      "445576                                     0  \n",
      "445577                                     0  \n",
      "445578                                     0  \n",
      "445579                                     0  \n",
      "445580                                     0  \n",
      "\n",
      "[445581 rows x 8 columns]\n"
     ]
    }
   ],
   "source": [
    "\n",
    "\n",
    "# Define normal work hours (8 AM to 6 PM)\n",
    "work_hour_start = 8\n",
    "work_hour_end = 18\n",
    "\n",
    "# Function to classify file type based on filename extension\n",
    "def classify_file_type(filename):\n",
    "    document_extensions = ['.doc', '.pdf', '.txt', '.jpg', '.png', '.jpeg', '.docx', '.xls', '.xlsx']\n",
    "    program_extensions = ['.exe', '.bat', '.sh', '.cmd', '.bin']\n",
    "    \n",
    "    if any(filename.lower().endswith(ext) for ext in document_extensions):\n",
    "        return 'document'\n",
    "    elif any(filename.lower().endswith(ext) for ext in program_extensions):\n",
    "        return 'program'\n",
    "    return 'other'\n",
    "\n",
    "# Apply file type classification to the 'filename' column\n",
    "file_df['file_type'] = file_df['filename'].apply(classify_file_type)\n",
    "\n",
    "# Extract hour from the 'date' column\n",
    "file_df['hour'] = file_df['date'].dt.hour\n",
    "\n",
    "# Define \"own PC\" and \"other PC\" based on 'pc' column\n",
    "own_pc_prefix = 'PC-'  # This is an example, adjust according to your own PC naming convention\n",
    "file_df['is_own_pc'] = file_df['pc'].apply(lambda x: 1 if x.startswith(own_pc_prefix) else 0)\n",
    "\n",
    "# Create features for document and program file copying activities\n",
    "file_df['documents_copy_own_pc'] = ((file_df['file_type'] == 'document') & (file_df['is_own_pc'] == 1)).astype(int)\n",
    "file_df['documents_copy_other_pc'] = ((file_df['file_type'] == 'document') & (file_df['is_own_pc'] == 0)).astype(int)\n",
    "file_df['program_files_copy_own_pc'] = ((file_df['file_type'] == 'program') & (file_df['is_own_pc'] == 1)).astype(int)\n",
    "file_df['program_files_copy_other_pc'] = ((file_df['file_type'] == 'program') & (file_df['is_own_pc'] == 0)).astype(int)\n",
    "\n",
    "# Determine if activity is during off-hours (before 9 AM or after 6 PM)\n",
    "file_df['documents_copy_own_pc_off_hour'] = ((file_df['documents_copy_own_pc'] == 1) & ((file_df['hour'] < work_hour_start) | (file_df['hour'] >= work_hour_end))).astype(int)\n",
    "file_df['documents_copy_other_pc_off_hour'] = ((file_df['documents_copy_other_pc'] == 1) & ((file_df['hour'] < work_hour_start) | (file_df['hour'] >= work_hour_end))).astype(int)\n",
    "file_df['program_files_copy_own_pc_off_hour'] = ((file_df['program_files_copy_own_pc'] == 1) & ((file_df['hour'] < work_hour_start) | (file_df['hour'] >= work_hour_end))).astype(int)\n",
    "file_df['program_files_copy_other_pc_off_hour'] = ((file_df['program_files_copy_other_pc'] == 1) & ((file_df['hour'] < work_hour_start) | (file_df['hour'] >= work_hour_end))).astype(int)\n",
    "\n",
    "# Print or return the dataframe with new features\n",
    "print(file_df[['documents_copy_own_pc', 'documents_copy_other_pc', 'program_files_copy_own_pc', 'program_files_copy_other_pc',\n",
    "               'documents_copy_own_pc_off_hour', 'documents_copy_other_pc_off_hour', 'program_files_copy_own_pc_off_hour', \n",
    "               'program_files_copy_other_pc_off_hour']])\n"
   ]
  },
  {
   "cell_type": "code",
   "execution_count": 6,
   "metadata": {},
   "outputs": [],
   "source": [
    "file_df.drop(columns=['id','filename','content','file_type','hour','is_own_pc', \n",
    "     ], inplace=True)"
   ]
  },
  {
   "cell_type": "code",
   "execution_count": 7,
   "metadata": {},
   "outputs": [
    {
     "data": {
      "text/plain": [
       "date                                    0\n",
       "user                                    0\n",
       "pc                                      0\n",
       "documents_copy_own_pc                   0\n",
       "documents_copy_other_pc                 0\n",
       "program_files_copy_own_pc               0\n",
       "program_files_copy_other_pc             0\n",
       "documents_copy_own_pc_off_hour          0\n",
       "documents_copy_other_pc_off_hour        0\n",
       "program_files_copy_own_pc_off_hour      0\n",
       "program_files_copy_other_pc_off_hour    0\n",
       "dtype: int64"
      ]
     },
     "execution_count": 7,
     "metadata": {},
     "output_type": "execute_result"
    }
   ],
   "source": [
    "file_df.isnull().sum()"
   ]
  },
  {
   "cell_type": "code",
   "execution_count": 8,
   "metadata": {},
   "outputs": [
    {
     "name": "stdout",
     "output_type": "stream",
     "text": [
      "<class 'pandas.core.frame.DataFrame'>\n",
      "RangeIndex: 445581 entries, 0 to 445580\n",
      "Data columns (total 11 columns):\n",
      " #   Column                                Non-Null Count   Dtype         \n",
      "---  ------                                --------------   -----         \n",
      " 0   date                                  445581 non-null  datetime64[ns]\n",
      " 1   user                                  445581 non-null  object        \n",
      " 2   pc                                    445581 non-null  object        \n",
      " 3   documents_copy_own_pc                 445581 non-null  int64         \n",
      " 4   documents_copy_other_pc               445581 non-null  int64         \n",
      " 5   program_files_copy_own_pc             445581 non-null  int64         \n",
      " 6   program_files_copy_other_pc           445581 non-null  int64         \n",
      " 7   documents_copy_own_pc_off_hour        445581 non-null  int64         \n",
      " 8   documents_copy_other_pc_off_hour      445581 non-null  int64         \n",
      " 9   program_files_copy_own_pc_off_hour    445581 non-null  int64         \n",
      " 10  program_files_copy_other_pc_off_hour  445581 non-null  int64         \n",
      "dtypes: datetime64[ns](1), int64(8), object(2)\n",
      "memory usage: 37.4+ MB\n"
     ]
    }
   ],
   "source": [
    "file_df.info()"
   ]
  },
  {
   "cell_type": "code",
   "execution_count": 9,
   "metadata": {},
   "outputs": [],
   "source": [
    "\n",
    "# Sort by user_id and logon_time\n",
    "file_df = file_df.sort_values(by=['user', 'date']).reset_index(drop=True)"
   ]
  },
  {
   "cell_type": "code",
   "execution_count": 10,
   "metadata": {},
   "outputs": [
    {
     "data": {
      "text/plain": [
       "(445581, 11)"
      ]
     },
     "execution_count": 10,
     "metadata": {},
     "output_type": "execute_result"
    }
   ],
   "source": [
    "file_df.shape"
   ]
  },
  {
   "cell_type": "code",
   "execution_count": 11,
   "metadata": {},
   "outputs": [
    {
     "name": "stdout",
     "output_type": "stream",
     "text": [
      "Total duplicate rows in the dataset: 5821\n",
      "Total duplicate rows based on 'user' and 'date': 6467\n",
      "\n",
      "Some fully duplicated rows:\n",
      "                    date     user       pc  documents_copy_own_pc  \\\n",
      "1094 2010-10-15 09:50:11  AHD0848  PC-7751                      1   \n",
      "1095 2010-10-15 09:50:11  AHD0848  PC-7751                      1   \n",
      "1292 2010-01-28 13:52:13  AHM0410  PC-3686                      1   \n",
      "1293 2010-01-28 13:52:13  AHM0410  PC-3686                      1   \n",
      "1542 2010-03-30 16:20:03  AHM0410  PC-3686                      1   \n",
      "\n",
      "      documents_copy_other_pc  program_files_copy_own_pc  \\\n",
      "1094                        0                          0   \n",
      "1095                        0                          0   \n",
      "1292                        0                          0   \n",
      "1293                        0                          0   \n",
      "1542                        0                          0   \n",
      "\n",
      "      program_files_copy_other_pc  documents_copy_own_pc_off_hour  \\\n",
      "1094                            0                               0   \n",
      "1095                            0                               0   \n",
      "1292                            0                               0   \n",
      "1293                            0                               0   \n",
      "1542                            0                               0   \n",
      "\n",
      "      documents_copy_other_pc_off_hour  program_files_copy_own_pc_off_hour  \\\n",
      "1094                                 0                                   0   \n",
      "1095                                 0                                   0   \n",
      "1292                                 0                                   0   \n",
      "1293                                 0                                   0   \n",
      "1542                                 0                                   0   \n",
      "\n",
      "      program_files_copy_other_pc_off_hour  \n",
      "1094                                     0  \n",
      "1095                                     0  \n",
      "1292                                     0  \n",
      "1293                                     0  \n",
      "1542                                     0  \n",
      "\n",
      "Some duplicate rows based on 'user' and 'date':\n",
      "                    date     user       pc  documents_copy_own_pc  \\\n",
      "1094 2010-10-15 09:50:11  AHD0848  PC-7751                      1   \n",
      "1095 2010-10-15 09:50:11  AHD0848  PC-7751                      1   \n",
      "1292 2010-01-28 13:52:13  AHM0410  PC-3686                      1   \n",
      "1293 2010-01-28 13:52:13  AHM0410  PC-3686                      1   \n",
      "1542 2010-03-30 16:20:03  AHM0410  PC-3686                      1   \n",
      "\n",
      "      documents_copy_other_pc  program_files_copy_own_pc  \\\n",
      "1094                        0                          0   \n",
      "1095                        0                          0   \n",
      "1292                        0                          0   \n",
      "1293                        0                          0   \n",
      "1542                        0                          0   \n",
      "\n",
      "      program_files_copy_other_pc  documents_copy_own_pc_off_hour  \\\n",
      "1094                            0                               0   \n",
      "1095                            0                               0   \n",
      "1292                            0                               0   \n",
      "1293                            0                               0   \n",
      "1542                            0                               0   \n",
      "\n",
      "      documents_copy_other_pc_off_hour  program_files_copy_own_pc_off_hour  \\\n",
      "1094                                 0                                   0   \n",
      "1095                                 0                                   0   \n",
      "1292                                 0                                   0   \n",
      "1293                                 0                                   0   \n",
      "1542                                 0                                   0   \n",
      "\n",
      "      program_files_copy_other_pc_off_hour  \n",
      "1094                                     0  \n",
      "1095                                     0  \n",
      "1292                                     0  \n",
      "1293                                     0  \n",
      "1542                                     0  \n",
      "\n",
      "Duplicates removed. Updated dataset shape: (439114, 11)\n"
     ]
    }
   ],
   "source": [
    "\n",
    "\n",
    "# Count total duplicate rows\n",
    "total_duplicates =file_df.duplicated().sum()\n",
    "print(f\"Total duplicate rows in the dataset: {total_duplicates}\")\n",
    "\n",
    "# Count duplicates based on 'user' and 'date'\n",
    "column_duplicates = file_df.duplicated(subset=['user', 'date']).sum()\n",
    "print(f\"Total duplicate rows based on 'user' and 'date': {column_duplicates}\")\n",
    "\n",
    "# Display duplicate rows (full duplicates)\n",
    "if total_duplicates > 0:\n",
    "    print(\"\\nSome fully duplicated rows:\")\n",
    "    print(file_df[file_df.duplicated(keep=False)].head())\n",
    "\n",
    "# Display duplicate rows based on 'user' and 'date'\n",
    "if column_duplicates > 0:\n",
    "    print(\"\\nSome duplicate rows based on 'user' and 'date':\")\n",
    "    print(file_df[file_df.duplicated(subset=['user', 'date'], keep=False)].head())\n",
    "\n",
    "# Step 1: Remove duplicates based on 'user' and 'date' first\n",
    "file_df = file_df.drop_duplicates(subset=['user', 'date'], keep='first')\n",
    "\n",
    "# Step 2: Remove any remaining fully duplicated rows\n",
    "file_df = file_df.drop_duplicates(keep='first')\n",
    "\n",
    "# Reset index after dropping duplicates\n",
    "file_df = file_df.reset_index(drop=True)\n",
    "\n",
    "# Final dataset shape after cleaning\n",
    "print(\"\\nDuplicates removed. Updated dataset shape:\", file_df.shape)\n"
   ]
  },
  {
   "cell_type": "code",
   "execution_count": 14,
   "metadata": {},
   "outputs": [],
   "source": [
    "file_df.to_csv('file_cleaned.csv', index=False)"
   ]
  }
 ],
 "metadata": {
  "kernelspec": {
   "display_name": "tensorflow_venv",
   "language": "python",
   "name": "python3"
  },
  "language_info": {
   "codemirror_mode": {
    "name": "ipython",
    "version": 3
   },
   "file_extension": ".py",
   "mimetype": "text/x-python",
   "name": "python",
   "nbconvert_exporter": "python",
   "pygments_lexer": "ipython3",
   "version": "3.12.7"
  }
 },
 "nbformat": 4,
 "nbformat_minor": 2
}
