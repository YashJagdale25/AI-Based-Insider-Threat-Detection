{
 "cells": [
  {
   "cell_type": "code",
   "execution_count": 2,
   "metadata": {},
   "outputs": [],
   "source": [
    "import pandas as pd\n",
    "from pandas import Timedelta\n",
    "\n",
    "# Load datasets\n",
    "logon_df = pd.read_csv('logon_cleaned.csv')\n",
    "email_df = pd.read_csv('email_cleaned.csv')\n",
    "file_df = pd.read_csv('file_cleaned.csv')  # Load file events data\n",
    "device_df=pd.read_csv('device_cleaned.csv')\n",
    "# Rename user_id to user if necessary\n",
    "logon_df.rename(columns={'user_id': 'user'}, inplace=True)\n",
    "\n",
    "logon_df.rename(columns={'pc': 'logon_pc'}, inplace=True)\n",
    "file_df.rename(columns={'pc': 'file_pc'}, inplace=True)\n",
    "device_df.rename(columns={'pc': 'device_pc'}, inplace=True)"
   ]
  },
  {
   "cell_type": "code",
   "execution_count": 3,
   "metadata": {},
   "outputs": [],
   "source": [
    "\n",
    "# Convert to datetime\n",
    "email_df[\"date\"] = pd.to_datetime(email_df[\"date\"])\n",
    "\n",
    "file_df[\"date\"] = pd.to_datetime(file_df[\"date\"])  # Ensure correct format\n",
    "device_df['date']=pd.to_datetime(file_df['date'])\n",
    "\n",
    "\n",
    "logon_df['start_time'] = pd.to_datetime(logon_df['start_time'])\n",
    "logon_df['end_time'] = pd.to_datetime(logon_df['end_time'])\n",
    "\n"
   ]
  },
  {
   "cell_type": "code",
   "execution_count": 4,
   "metadata": {},
   "outputs": [
    {
     "name": "stdout",
     "output_type": "stream",
     "text": [
      "Index(['date', 'user', 'pc', 'int_to_int_mails', 'int_to_out_mails',\n",
      "       'out_to_int_mails', 'out_to_out_mails', 'internal_recipients',\n",
      "       'external_recipients', 'distinct_bcc', 'mails_with_attachments',\n",
      "       'after_hour_mails'],\n",
      "      dtype='object')\n",
      "Index(['user', 'logon_pc', 'employee_name', 'role', 'start_time', 'end_time',\n",
      "       'logon_hour', 'day_of_week', 'logon_on_own_pc', 'logon_on_other_pc',\n",
      "       'logon_on_own_pc_normal', 'logon_on_own_pc_off_hour',\n",
      "       'logon_on_other_pc_normal', 'logon_on_other_pc_off_hour'],\n",
      "      dtype='object')\n",
      "Index(['date', 'user', 'file_pc', 'documents_copy_own_pc',\n",
      "       'documents_copy_other_pc', 'program_files_copy_own_pc',\n",
      "       'program_files_copy_other_pc', 'documents_copy_own_pc_off_hour',\n",
      "       'documents_copy_other_pc_off_hour',\n",
      "       'program_files_copy_own_pc_off_hour',\n",
      "       'program_files_copy_other_pc_off_hour'],\n",
      "      dtype='object')\n",
      "Index(['date', 'user', 'device_pc', 'day_of_week',\n",
      "       'device_connects_on_own_pc_normal_hour',\n",
      "       'device_connects_on_other_pc_normal_hour',\n",
      "       'device_connects_on_own_pc_off_hour',\n",
      "       'device_connects_on_other_pc_off_hour'],\n",
      "      dtype='object')\n"
     ]
    }
   ],
   "source": [
    "print(email_df.columns)\n",
    "print(logon_df.columns)\n",
    "print(file_df.columns)\n",
    "print(device_df.columns)"
   ]
  },
  {
   "cell_type": "code",
   "execution_count": 5,
   "metadata": {},
   "outputs": [
    {
     "name": "stdout",
     "output_type": "stream",
     "text": [
      "(2612453, 12)\n",
      "(366340, 14)\n",
      "(439114, 11)\n",
      "(405019, 8)\n"
     ]
    }
   ],
   "source": [
    "print(email_df.shape)\n",
    "print(logon_df.shape)\n",
    "print(file_df.shape)\n",
    "print(device_df.shape)"
   ]
  },
  {
   "cell_type": "code",
   "execution_count": 6,
   "metadata": {},
   "outputs": [
    {
     "data": {
      "text/html": [
       "<div>\n",
       "<style scoped>\n",
       "    .dataframe tbody tr th:only-of-type {\n",
       "        vertical-align: middle;\n",
       "    }\n",
       "\n",
       "    .dataframe tbody tr th {\n",
       "        vertical-align: top;\n",
       "    }\n",
       "\n",
       "    .dataframe thead th {\n",
       "        text-align: right;\n",
       "    }\n",
       "</style>\n",
       "<table border=\"1\" class=\"dataframe\">\n",
       "  <thead>\n",
       "    <tr style=\"text-align: right;\">\n",
       "      <th></th>\n",
       "      <th>date</th>\n",
       "      <th>user</th>\n",
       "      <th>pc</th>\n",
       "      <th>int_to_int_mails</th>\n",
       "      <th>int_to_out_mails</th>\n",
       "      <th>out_to_int_mails</th>\n",
       "      <th>out_to_out_mails</th>\n",
       "      <th>internal_recipients</th>\n",
       "      <th>external_recipients</th>\n",
       "      <th>distinct_bcc</th>\n",
       "      <th>mails_with_attachments</th>\n",
       "      <th>after_hour_mails</th>\n",
       "    </tr>\n",
       "  </thead>\n",
       "  <tbody>\n",
       "    <tr>\n",
       "      <th>0</th>\n",
       "      <td>2010-01-04 08:19:15</td>\n",
       "      <td>AAE0190</td>\n",
       "      <td>PC-8915</td>\n",
       "      <td>1</td>\n",
       "      <td>0</td>\n",
       "      <td>0</td>\n",
       "      <td>0</td>\n",
       "      <td>1</td>\n",
       "      <td>0</td>\n",
       "      <td>0</td>\n",
       "      <td>0</td>\n",
       "      <td>0</td>\n",
       "    </tr>\n",
       "    <tr>\n",
       "      <th>1</th>\n",
       "      <td>2010-01-04 08:19:50</td>\n",
       "      <td>AAE0190</td>\n",
       "      <td>PC-8915</td>\n",
       "      <td>1</td>\n",
       "      <td>0</td>\n",
       "      <td>0</td>\n",
       "      <td>0</td>\n",
       "      <td>3</td>\n",
       "      <td>0</td>\n",
       "      <td>0</td>\n",
       "      <td>0</td>\n",
       "      <td>0</td>\n",
       "    </tr>\n",
       "    <tr>\n",
       "      <th>2</th>\n",
       "      <td>2010-01-04 08:20:14</td>\n",
       "      <td>AAE0190</td>\n",
       "      <td>PC-8915</td>\n",
       "      <td>1</td>\n",
       "      <td>0</td>\n",
       "      <td>0</td>\n",
       "      <td>0</td>\n",
       "      <td>2</td>\n",
       "      <td>0</td>\n",
       "      <td>0</td>\n",
       "      <td>0</td>\n",
       "      <td>0</td>\n",
       "    </tr>\n",
       "    <tr>\n",
       "      <th>3</th>\n",
       "      <td>2010-01-04 08:29:44</td>\n",
       "      <td>AAE0190</td>\n",
       "      <td>PC-8915</td>\n",
       "      <td>1</td>\n",
       "      <td>0</td>\n",
       "      <td>0</td>\n",
       "      <td>0</td>\n",
       "      <td>1</td>\n",
       "      <td>0</td>\n",
       "      <td>0</td>\n",
       "      <td>0</td>\n",
       "      <td>0</td>\n",
       "    </tr>\n",
       "    <tr>\n",
       "      <th>4</th>\n",
       "      <td>2010-01-04 08:29:47</td>\n",
       "      <td>AAE0190</td>\n",
       "      <td>PC-8915</td>\n",
       "      <td>1</td>\n",
       "      <td>0</td>\n",
       "      <td>0</td>\n",
       "      <td>0</td>\n",
       "      <td>3</td>\n",
       "      <td>0</td>\n",
       "      <td>0</td>\n",
       "      <td>1</td>\n",
       "      <td>0</td>\n",
       "    </tr>\n",
       "  </tbody>\n",
       "</table>\n",
       "</div>"
      ],
      "text/plain": [
       "                 date     user       pc  int_to_int_mails  int_to_out_mails  \\\n",
       "0 2010-01-04 08:19:15  AAE0190  PC-8915                 1                 0   \n",
       "1 2010-01-04 08:19:50  AAE0190  PC-8915                 1                 0   \n",
       "2 2010-01-04 08:20:14  AAE0190  PC-8915                 1                 0   \n",
       "3 2010-01-04 08:29:44  AAE0190  PC-8915                 1                 0   \n",
       "4 2010-01-04 08:29:47  AAE0190  PC-8915                 1                 0   \n",
       "\n",
       "   out_to_int_mails  out_to_out_mails  internal_recipients  \\\n",
       "0                 0                 0                    1   \n",
       "1                 0                 0                    3   \n",
       "2                 0                 0                    2   \n",
       "3                 0                 0                    1   \n",
       "4                 0                 0                    3   \n",
       "\n",
       "   external_recipients  distinct_bcc  mails_with_attachments  after_hour_mails  \n",
       "0                    0             0                       0                 0  \n",
       "1                    0             0                       0                 0  \n",
       "2                    0             0                       0                 0  \n",
       "3                    0             0                       0                 0  \n",
       "4                    0             0                       1                 0  "
      ]
     },
     "execution_count": 6,
     "metadata": {},
     "output_type": "execute_result"
    }
   ],
   "source": [
    "email_df.head()"
   ]
  },
  {
   "cell_type": "code",
   "execution_count": null,
   "metadata": {},
   "outputs": [],
   "source": [
    "logon_df.head()"
   ]
  },
  {
   "cell_type": "code",
   "execution_count": null,
   "metadata": {},
   "outputs": [],
   "source": [
    "file_df.head()"
   ]
  },
  {
   "cell_type": "code",
   "execution_count": null,
   "metadata": {},
   "outputs": [],
   "source": [
    "device_df.head()"
   ]
  },
  {
   "cell_type": "code",
   "execution_count": null,
   "metadata": {},
   "outputs": [],
   "source": [
    "logon_df['user'].nunique()"
   ]
  },
  {
   "cell_type": "code",
   "execution_count": null,
   "metadata": {},
   "outputs": [],
   "source": [
    "email_df['user'].nunique()"
   ]
  },
  {
   "cell_type": "code",
   "execution_count": null,
   "metadata": {},
   "outputs": [],
   "source": [
    "print(logon_df.shape)\n",
    "print(email_df.shape)"
   ]
  },
  {
   "cell_type": "code",
   "execution_count": 8,
   "metadata": {},
   "outputs": [],
   "source": [
    "logon_df.rename(columns={\n",
    "    'own_pc':'pc'\n",
    "},inplace=True)"
   ]
  },
  {
   "cell_type": "code",
   "execution_count": null,
   "metadata": {},
   "outputs": [],
   "source": [
    "logon_df.columns"
   ]
  },
  {
   "cell_type": "code",
   "execution_count": null,
   "metadata": {},
   "outputs": [],
   "source": [
    "merged_df.shape"
   ]
  },
  {
   "cell_type": "code",
   "execution_count": null,
   "metadata": {},
   "outputs": [],
   "source": [
    "merged_df.columns"
   ]
  },
  {
   "cell_type": "code",
   "execution_count": null,
   "metadata": {},
   "outputs": [],
   "source": [
    "email_df = email_df.query(\"start_time <= date <= end_time\")\n",
    "file_df = file_df.query(\"start_time <= date <= end_time\")\n",
    "device_df = device_df.query(\"start_time <= date <= end_time\")\n"
   ]
  },
  {
   "cell_type": "code",
   "execution_count": null,
   "metadata": {},
   "outputs": [],
   "source": [
    "\n",
    "\n",
    "# Aggregate Email Features\n",
    "email_agg = email_df.groupby([\"user\", \"date\"]).agg({\n",
    "    \"int_to_int_mails\": \"sum\",\n",
    "    \"int_to_out_mails\": \"sum\",\n",
    "    \"out_to_int_mails\": \"sum\",\n",
    "    \"out_to_out_mails\": \"sum\",\n",
    "    \"internal_recipients\": \"sum\",\n",
    "    \"external_recipients\": \"sum\",\n",
    "    \"distinct_bcc\": \"sum\",\n",
    "    \"mails_with_attachments\": \"sum\",\n",
    "    \"after_hour_mails\": \"sum\"\n",
    "}).reset_index()\n",
    "\n",
    "# Aggregate File Features\n",
    "file_agg = file_df.groupby([\"user\", \"date\"]).agg({\n",
    "    \"documents_copy_own_pc\": \"sum\",\n",
    "    \"documents_copy_other_pc\": \"sum\",\n",
    "    \"program_files_copy_own_pc\": \"sum\",\n",
    "    \"program_files_copy_other_pc\": \"sum\",\n",
    "    \"documents_copy_own_pc_off_hour\": \"sum\",\n",
    "    \"documents_copy_other_pc_off_hour\": \"sum\",\n",
    "    \"program_files_copy_own_pc_off_hour\": \"sum\",\n",
    "    \"program_files_copy_other_pc_off_hour\": \"sum\"\n",
    "}).reset_index()\n",
    "\n",
    "# Aggregate Device Features\n",
    "device_agg = device_df.groupby([\"user\", \"date\"]).agg({\n",
    "    \"device_connects_on_own_pc_normal_hour\": \"sum\",\n",
    "    \"device_connects_on_other_pc_normal_hour\": \"sum\",\n",
    "    \"device_connects_on_own_pc_off_hour\": \"sum\",\n",
    "    \"device_connects_on_other_pc_off_hour\": \"sum\"\n",
    "}).reset_index()\n",
    "\n"
   ]
  },
  {
   "cell_type": "code",
   "execution_count": null,
   "metadata": {},
   "outputs": [],
   "source": [
    "# Merge aggregated data\n",
    "feature_vector = feature_vector.merge(email_agg, on=[\"user\", \"date\"], how=\"left\") \\\n",
    "                               .merge(file_agg, on=[\"user\", \"date\"], how=\"left\") \\\n",
    "                               .merge(device_agg, on=[\"user\", \"date\"], how=\"left\")\n",
    "\n",
    "# Fill NaN values with 0 (for sessions without email, file, or device activity)\n",
    "#feature_vector.fillna(0, inplace=True)\n",
    "\n",
    "# Compute session duration\n",
    "feature_vector[\"session_duration\"] = (feature_vector[\"end_time\"] - feature_vector[\"start_time\"]).dt.total_seconds()\n"
   ]
  },
  {
   "cell_type": "code",
   "execution_count": null,
   "metadata": {},
   "outputs": [],
   "source": [
    "print(\"Logon Columns:\", logon_df.columns)\n",
    "print(\"Email Columns:\", email_df.columns)\n",
    "print(\"File Columns:\", file_df.columns)\n",
    "print(\"Device Columns:\", device_df.columns)\n"
   ]
  },
  {
   "cell_type": "code",
   "execution_count": null,
   "metadata": {},
   "outputs": [],
   "source": [
    "\n",
    "# Drop unnecessary columns\n",
    "#feature_vector.drop(columns=[\"start_time\", \"end_time\"], inplace=True)\n",
    "\n",
    "# Save the processed feature vector\n",
    "#feature_vector.to_csv(\"feature_vector.csv\", index=False)\n",
    "\n",
    "print(\"Feature vector generated and saved as 'feature_vector.csv' successfully!\")\n"
   ]
  },
  {
   "cell_type": "code",
   "execution_count": 1,
   "metadata": {},
   "outputs": [
    {
     "ename": "ModuleNotFoundError",
     "evalue": "No module named 'tensorflow'",
     "output_type": "error",
     "traceback": [
      "\u001b[0;31m---------------------------------------------------------------------------\u001b[0m",
      "\u001b[0;31mModuleNotFoundError\u001b[0m                       Traceback (most recent call last)",
      "Cell \u001b[0;32mIn[1], line 1\u001b[0m\n\u001b[0;32m----> 1\u001b[0m \u001b[38;5;28;01mfrom\u001b[39;00m \u001b[38;5;21;01mtensorflow\u001b[39;00m\u001b[38;5;21;01m.\u001b[39;00m\u001b[38;5;21;01mkeras\u001b[39;00m\u001b[38;5;21;01m.\u001b[39;00m\u001b[38;5;21;01mutils\u001b[39;00m \u001b[38;5;28;01mimport\u001b[39;00m plot_model\n\u001b[1;32m      2\u001b[0m \u001b[38;5;28;01mimport\u001b[39;00m \u001b[38;5;21;01mmatplotlib\u001b[39;00m\u001b[38;5;21;01m.\u001b[39;00m\u001b[38;5;21;01mpyplot\u001b[39;00m \u001b[38;5;28;01mas\u001b[39;00m \u001b[38;5;21;01mplt\u001b[39;00m\n\u001b[1;32m      3\u001b[0m \u001b[38;5;28;01mfrom\u001b[39;00m \u001b[38;5;21;01mtensorflow\u001b[39;00m\u001b[38;5;21;01m.\u001b[39;00m\u001b[38;5;21;01mkeras\u001b[39;00m\u001b[38;5;21;01m.\u001b[39;00m\u001b[38;5;21;01mmodels\u001b[39;00m \u001b[38;5;28;01mimport\u001b[39;00m Model\n",
      "\u001b[0;31mModuleNotFoundError\u001b[0m: No module named 'tensorflow'"
     ]
    }
   ],
   "source": []
  }
 ],
 "metadata": {
  "kernelspec": {
   "display_name": "Python 3",
   "language": "python",
   "name": "python3"
  },
  "language_info": {
   "codemirror_mode": {
    "name": "ipython",
    "version": 3
   },
   "file_extension": ".py",
   "mimetype": "text/x-python",
   "name": "python",
   "nbconvert_exporter": "python",
   "pygments_lexer": "ipython3",
   "version": "3.13.1"
  }
 },
 "nbformat": 4,
 "nbformat_minor": 2
}
