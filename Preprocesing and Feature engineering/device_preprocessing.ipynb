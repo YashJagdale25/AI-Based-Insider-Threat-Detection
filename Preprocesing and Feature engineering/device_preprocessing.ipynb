{
 "cells": [
  {
   "cell_type": "code",
   "execution_count": 1,
   "metadata": {},
   "outputs": [],
   "source": [
    "import pandas as pd\n",
    "device_df = pd.read_csv('device.csv')"
   ]
  },
  {
   "cell_type": "code",
   "execution_count": 2,
   "metadata": {},
   "outputs": [
    {
     "data": {
      "text/html": [
       "<div>\n",
       "<style scoped>\n",
       "    .dataframe tbody tr th:only-of-type {\n",
       "        vertical-align: middle;\n",
       "    }\n",
       "\n",
       "    .dataframe tbody tr th {\n",
       "        vertical-align: top;\n",
       "    }\n",
       "\n",
       "    .dataframe thead th {\n",
       "        text-align: right;\n",
       "    }\n",
       "</style>\n",
       "<table border=\"1\" class=\"dataframe\">\n",
       "  <thead>\n",
       "    <tr style=\"text-align: right;\">\n",
       "      <th></th>\n",
       "      <th>id</th>\n",
       "      <th>date</th>\n",
       "      <th>user</th>\n",
       "      <th>pc</th>\n",
       "      <th>activity</th>\n",
       "    </tr>\n",
       "  </thead>\n",
       "  <tbody>\n",
       "    <tr>\n",
       "      <th>0</th>\n",
       "      <td>{J1S3-L9UU75BQ-7790ATPL}</td>\n",
       "      <td>01/02/2010 07:21:06</td>\n",
       "      <td>MOH0273</td>\n",
       "      <td>PC-6699</td>\n",
       "      <td>Connect</td>\n",
       "    </tr>\n",
       "    <tr>\n",
       "      <th>1</th>\n",
       "      <td>{N7B5-Y7BB27SI-2946PUJK}</td>\n",
       "      <td>01/02/2010 07:37:41</td>\n",
       "      <td>MOH0273</td>\n",
       "      <td>PC-6699</td>\n",
       "      <td>Disconnect</td>\n",
       "    </tr>\n",
       "    <tr>\n",
       "      <th>2</th>\n",
       "      <td>{U1V9-Z7XT67KV-5649MYHI}</td>\n",
       "      <td>01/02/2010 07:59:11</td>\n",
       "      <td>HPH0075</td>\n",
       "      <td>PC-2417</td>\n",
       "      <td>Connect</td>\n",
       "    </tr>\n",
       "    <tr>\n",
       "      <th>3</th>\n",
       "      <td>{H0Z7-E6GB57XZ-1603MOXD}</td>\n",
       "      <td>01/02/2010 07:59:49</td>\n",
       "      <td>IIW0249</td>\n",
       "      <td>PC-0843</td>\n",
       "      <td>Connect</td>\n",
       "    </tr>\n",
       "    <tr>\n",
       "      <th>4</th>\n",
       "      <td>{L7P2-G4PX02RX-7999GYOY}</td>\n",
       "      <td>01/02/2010 08:04:26</td>\n",
       "      <td>IIW0249</td>\n",
       "      <td>PC-0843</td>\n",
       "      <td>Disconnect</td>\n",
       "    </tr>\n",
       "  </tbody>\n",
       "</table>\n",
       "</div>"
      ],
      "text/plain": [
       "                         id                 date     user       pc    activity\n",
       "0  {J1S3-L9UU75BQ-7790ATPL}  01/02/2010 07:21:06  MOH0273  PC-6699     Connect\n",
       "1  {N7B5-Y7BB27SI-2946PUJK}  01/02/2010 07:37:41  MOH0273  PC-6699  Disconnect\n",
       "2  {U1V9-Z7XT67KV-5649MYHI}  01/02/2010 07:59:11  HPH0075  PC-2417     Connect\n",
       "3  {H0Z7-E6GB57XZ-1603MOXD}  01/02/2010 07:59:49  IIW0249  PC-0843     Connect\n",
       "4  {L7P2-G4PX02RX-7999GYOY}  01/02/2010 08:04:26  IIW0249  PC-0843  Disconnect"
      ]
     },
     "execution_count": 2,
     "metadata": {},
     "output_type": "execute_result"
    }
   ],
   "source": [
    "device_df.head()"
   ]
  },
  {
   "cell_type": "code",
   "execution_count": 3,
   "metadata": {},
   "outputs": [
    {
     "data": {
      "text/plain": [
       "id          0\n",
       "date        0\n",
       "user        0\n",
       "pc          0\n",
       "activity    0\n",
       "dtype: int64"
      ]
     },
     "execution_count": 3,
     "metadata": {},
     "output_type": "execute_result"
    }
   ],
   "source": [
    "device_df.isnull().sum()"
   ]
  },
  {
   "cell_type": "code",
   "execution_count": 4,
   "metadata": {},
   "outputs": [],
   "source": [
    "\n",
    "device_df['date'] = pd.to_datetime(device_df['date'], errors='coerce')\n",
    "\n"
   ]
  },
  {
   "cell_type": "code",
   "execution_count": 5,
   "metadata": {},
   "outputs": [
    {
     "data": {
      "text/plain": [
       "id          0\n",
       "date        0\n",
       "user        0\n",
       "pc          0\n",
       "activity    0\n",
       "dtype: int64"
      ]
     },
     "execution_count": 5,
     "metadata": {},
     "output_type": "execute_result"
    }
   ],
   "source": [
    "device_df.isnull().sum()"
   ]
  },
  {
   "cell_type": "code",
   "execution_count": 6,
   "metadata": {},
   "outputs": [],
   "source": [
    "device_df[\"logon_hour\"] = device_df[\"date\"].dt.hour\n",
    "device_df[\"day_of_week\"] = device_df[\"date\"].dt.dayofweek  # Monday = 0, Sunday = 6\n"
   ]
  },
  {
   "cell_type": "code",
   "execution_count": 7,
   "metadata": {},
   "outputs": [],
   "source": [
    "# Determine user's own PC as the first PC they connect to (based on the first 'Connect' activity)\n",
    "user_pc_mapping = device_df[device_df['activity'] == 'Connect'].groupby('user')['pc'].first().to_dict()\n",
    "\n",
    "# Add the mapping to the DataFrame\n",
    "device_df[\"own_pc\"] = device_df[\"user\"].map(user_pc_mapping)\n"
   ]
  },
  {
   "cell_type": "code",
   "execution_count": 8,
   "metadata": {},
   "outputs": [],
   "source": [
    "NORMAL_HOURS_START = 8  # 8 AM\n",
    "NORMAL_HOURS_END = 18   # 6 PM\n",
    "\n",
    "# Determine logon type: Own PC vs. Other PC\n",
    "device_df[\"connect_on_own_pc\"] = (device_df[\"pc\"] == device_df[\"own_pc\"]).astype(int)\n",
    "device_df[\"connect_on_other_pc\"] = (device_df[\"pc\"] != device_df[\"own_pc\"]).astype(int)\n",
    "\n",
    "# Create the feature for device connection during normal hours and off-hours\n",
    "device_df[\"device_connects_on_own_pc_normal_hour\"] = (\n",
    "    (device_df[\"logon_hour\"] >= NORMAL_HOURS_START) & \n",
    "    (device_df[\"logon_hour\"] < NORMAL_HOURS_END) & \n",
    "    (device_df[\"connect_on_own_pc\"] == 1) & \n",
    "    (device_df[\"activity\"] == \"Connect\")\n",
    ").astype(int)\n",
    "\n",
    "device_df[\"device_connects_on_other_pc_normal_hour\"] = (\n",
    "    (device_df[\"logon_hour\"] >= NORMAL_HOURS_START) & \n",
    "    (device_df[\"logon_hour\"] < NORMAL_HOURS_END) & \n",
    "    (device_df[\"connect_on_other_pc\"] == 1) & \n",
    "    (device_df[\"activity\"] == \"Connect\")\n",
    ").astype(int)\n",
    "\n",
    "device_df[\"device_connects_on_own_pc_off_hour\"] = (\n",
    "    (device_df[\"logon_hour\"] < NORMAL_HOURS_START) | \n",
    "    (device_df[\"logon_hour\"] >= NORMAL_HOURS_END) & \n",
    "    (device_df[\"connect_on_own_pc\"] == 1) & \n",
    "    (device_df[\"activity\"] == \"Connect\")\n",
    ").astype(int)\n",
    "\n",
    "device_df[\"device_connects_on_other_pc_off_hour\"] = (\n",
    "    (device_df[\"logon_hour\"] < NORMAL_HOURS_START) | \n",
    "    (device_df[\"logon_hour\"] >= NORMAL_HOURS_END) & \n",
    "    (device_df[\"connect_on_other_pc\"] == 1) & \n",
    "    (device_df[\"activity\"] == \"Connect\")\n",
    ").astype(int)\n"
   ]
  },
  {
   "cell_type": "code",
   "execution_count": 9,
   "metadata": {},
   "outputs": [],
   "source": [
    "device_df.drop(columns=['id','activity','logon_hour','own_pc','connect_on_own_pc','connect_on_other_pc'], inplace=True)"
   ]
  },
  {
   "cell_type": "code",
   "execution_count": 10,
   "metadata": {},
   "outputs": [
    {
     "data": {
      "text/plain": [
       "date                                       0\n",
       "user                                       0\n",
       "pc                                         0\n",
       "day_of_week                                0\n",
       "device_connects_on_own_pc_normal_hour      0\n",
       "device_connects_on_other_pc_normal_hour    0\n",
       "device_connects_on_own_pc_off_hour         0\n",
       "device_connects_on_other_pc_off_hour       0\n",
       "dtype: int64"
      ]
     },
     "execution_count": 10,
     "metadata": {},
     "output_type": "execute_result"
    }
   ],
   "source": [
    "device_df.isnull().sum()"
   ]
  },
  {
   "cell_type": "code",
   "execution_count": 11,
   "metadata": {},
   "outputs": [
    {
     "name": "stdout",
     "output_type": "stream",
     "text": [
      "<class 'pandas.core.frame.DataFrame'>\n",
      "RangeIndex: 405380 entries, 0 to 405379\n",
      "Data columns (total 8 columns):\n",
      " #   Column                                   Non-Null Count   Dtype         \n",
      "---  ------                                   --------------   -----         \n",
      " 0   date                                     405380 non-null  datetime64[ns]\n",
      " 1   user                                     405380 non-null  object        \n",
      " 2   pc                                       405380 non-null  object        \n",
      " 3   day_of_week                              405380 non-null  int32         \n",
      " 4   device_connects_on_own_pc_normal_hour    405380 non-null  int64         \n",
      " 5   device_connects_on_other_pc_normal_hour  405380 non-null  int64         \n",
      " 6   device_connects_on_own_pc_off_hour       405380 non-null  int64         \n",
      " 7   device_connects_on_other_pc_off_hour     405380 non-null  int64         \n",
      "dtypes: datetime64[ns](1), int32(1), int64(4), object(2)\n",
      "memory usage: 23.2+ MB\n"
     ]
    }
   ],
   "source": [
    "device_df.info()"
   ]
  },
  {
   "cell_type": "code",
   "execution_count": 12,
   "metadata": {},
   "outputs": [
    {
     "data": {
      "text/html": [
       "<div>\n",
       "<style scoped>\n",
       "    .dataframe tbody tr th:only-of-type {\n",
       "        vertical-align: middle;\n",
       "    }\n",
       "\n",
       "    .dataframe tbody tr th {\n",
       "        vertical-align: top;\n",
       "    }\n",
       "\n",
       "    .dataframe thead th {\n",
       "        text-align: right;\n",
       "    }\n",
       "</style>\n",
       "<table border=\"1\" class=\"dataframe\">\n",
       "  <thead>\n",
       "    <tr style=\"text-align: right;\">\n",
       "      <th></th>\n",
       "      <th>date</th>\n",
       "      <th>user</th>\n",
       "      <th>pc</th>\n",
       "      <th>day_of_week</th>\n",
       "      <th>device_connects_on_own_pc_normal_hour</th>\n",
       "      <th>device_connects_on_other_pc_normal_hour</th>\n",
       "      <th>device_connects_on_own_pc_off_hour</th>\n",
       "      <th>device_connects_on_other_pc_off_hour</th>\n",
       "    </tr>\n",
       "  </thead>\n",
       "  <tbody>\n",
       "    <tr>\n",
       "      <th>0</th>\n",
       "      <td>2010-01-02 07:21:06</td>\n",
       "      <td>MOH0273</td>\n",
       "      <td>PC-6699</td>\n",
       "      <td>5</td>\n",
       "      <td>0</td>\n",
       "      <td>0</td>\n",
       "      <td>1</td>\n",
       "      <td>1</td>\n",
       "    </tr>\n",
       "    <tr>\n",
       "      <th>1</th>\n",
       "      <td>2010-01-02 07:37:41</td>\n",
       "      <td>MOH0273</td>\n",
       "      <td>PC-6699</td>\n",
       "      <td>5</td>\n",
       "      <td>0</td>\n",
       "      <td>0</td>\n",
       "      <td>1</td>\n",
       "      <td>1</td>\n",
       "    </tr>\n",
       "    <tr>\n",
       "      <th>2</th>\n",
       "      <td>2010-01-02 07:59:11</td>\n",
       "      <td>HPH0075</td>\n",
       "      <td>PC-2417</td>\n",
       "      <td>5</td>\n",
       "      <td>0</td>\n",
       "      <td>0</td>\n",
       "      <td>1</td>\n",
       "      <td>1</td>\n",
       "    </tr>\n",
       "    <tr>\n",
       "      <th>3</th>\n",
       "      <td>2010-01-02 07:59:49</td>\n",
       "      <td>IIW0249</td>\n",
       "      <td>PC-0843</td>\n",
       "      <td>5</td>\n",
       "      <td>0</td>\n",
       "      <td>0</td>\n",
       "      <td>1</td>\n",
       "      <td>1</td>\n",
       "    </tr>\n",
       "    <tr>\n",
       "      <th>4</th>\n",
       "      <td>2010-01-02 08:04:26</td>\n",
       "      <td>IIW0249</td>\n",
       "      <td>PC-0843</td>\n",
       "      <td>5</td>\n",
       "      <td>0</td>\n",
       "      <td>0</td>\n",
       "      <td>0</td>\n",
       "      <td>0</td>\n",
       "    </tr>\n",
       "  </tbody>\n",
       "</table>\n",
       "</div>"
      ],
      "text/plain": [
       "                 date     user       pc  day_of_week  \\\n",
       "0 2010-01-02 07:21:06  MOH0273  PC-6699            5   \n",
       "1 2010-01-02 07:37:41  MOH0273  PC-6699            5   \n",
       "2 2010-01-02 07:59:11  HPH0075  PC-2417            5   \n",
       "3 2010-01-02 07:59:49  IIW0249  PC-0843            5   \n",
       "4 2010-01-02 08:04:26  IIW0249  PC-0843            5   \n",
       "\n",
       "   device_connects_on_own_pc_normal_hour  \\\n",
       "0                                      0   \n",
       "1                                      0   \n",
       "2                                      0   \n",
       "3                                      0   \n",
       "4                                      0   \n",
       "\n",
       "   device_connects_on_other_pc_normal_hour  \\\n",
       "0                                        0   \n",
       "1                                        0   \n",
       "2                                        0   \n",
       "3                                        0   \n",
       "4                                        0   \n",
       "\n",
       "   device_connects_on_own_pc_off_hour  device_connects_on_other_pc_off_hour  \n",
       "0                                   1                                     1  \n",
       "1                                   1                                     1  \n",
       "2                                   1                                     1  \n",
       "3                                   1                                     1  \n",
       "4                                   0                                     0  "
      ]
     },
     "execution_count": 12,
     "metadata": {},
     "output_type": "execute_result"
    }
   ],
   "source": [
    "device_df.head()"
   ]
  },
  {
   "cell_type": "code",
   "execution_count": 13,
   "metadata": {},
   "outputs": [],
   "source": [
    "\n",
    "# Sort by user_id and logon_time\n",
    "device_df = device_df.sort_values(by=['user', 'date']).reset_index(drop=True)"
   ]
  },
  {
   "cell_type": "code",
   "execution_count": 14,
   "metadata": {},
   "outputs": [
    {
     "data": {
      "text/plain": [
       "(405380, 8)"
      ]
     },
     "execution_count": 14,
     "metadata": {},
     "output_type": "execute_result"
    }
   ],
   "source": [
    "device_df.shape"
   ]
  },
  {
   "cell_type": "code",
   "execution_count": 15,
   "metadata": {},
   "outputs": [
    {
     "name": "stdout",
     "output_type": "stream",
     "text": [
      "Total duplicate rows in the dataset: 88\n",
      "Total duplicate rows based on 'user' and 'date': 361\n",
      "\n",
      "Some fully duplicated rows:\n",
      "\n",
      "Some duplicate rows based on 'user' and 'date':\n",
      "\n",
      "Duplicates removed. Updated dataset shape: (405019, 8)\n"
     ]
    }
   ],
   "source": [
    "import pandas as pd\n",
    "\n",
    "# Count total duplicate rows\n",
    "total_duplicates = device_df.duplicated().sum()\n",
    "print(f\"Total duplicate rows in the dataset: {total_duplicates}\")\n",
    "\n",
    "# Count duplicates based on 'user' and 'date'\n",
    "column_duplicates = device_df.duplicated(subset=['user', 'date']).sum()\n",
    "print(f\"Total duplicate rows based on 'user' and 'date': {column_duplicates}\")\n",
    "\n",
    "# Display duplicate rows (full duplicates)\n",
    "if total_duplicates > 0:\n",
    "    print(\"\\nSome fully duplicated rows:\")\n",
    "    #print(device_df[device_df.duplicated(keep=False)].head())\n",
    "\n",
    "# Display duplicate rows based on 'user' and 'date'\n",
    "if column_duplicates > 0:\n",
    "    print(\"\\nSome duplicate rows based on 'user' and 'date':\")\n",
    "    #print(device_df[device_df.duplicated(subset=['user', 'date'], keep=False)].head())\n",
    "\n",
    "# Step 1: Remove duplicates based on 'user' and 'date' first\n",
    "device_df = device_df.drop_duplicates(subset=['user', 'date'], keep='first')\n",
    "\n",
    "# Step 2: Remove any remaining fully duplicated rows\n",
    "device_df = device_df.drop_duplicates(keep='first')\n",
    "\n",
    "# Reset index after dropping duplicates\n",
    "device_df = device_df.reset_index(drop=True)\n",
    "\n",
    "# Final dataset shape after cleaning\n",
    "print(\"\\nDuplicates removed. Updated dataset shape:\", device_df.shape)\n"
   ]
  },
  {
   "cell_type": "code",
   "execution_count": 16,
   "metadata": {},
   "outputs": [
    {
     "data": {
      "text/plain": [
       "(405019, 8)"
      ]
     },
     "execution_count": 16,
     "metadata": {},
     "output_type": "execute_result"
    }
   ],
   "source": [
    "device_df.shape"
   ]
  },
  {
   "cell_type": "code",
   "execution_count": 18,
   "metadata": {},
   "outputs": [],
   "source": [
    "device_df.to_csv('device_cleaned.csv', index=False)"
   ]
  }
 ],
 "metadata": {
  "kernelspec": {
   "display_name": "Python 3",
   "language": "python",
   "name": "python3"
  },
  "language_info": {
   "codemirror_mode": {
    "name": "ipython",
    "version": 3
   },
   "file_extension": ".py",
   "mimetype": "text/x-python",
   "name": "python",
   "nbconvert_exporter": "python",
   "pygments_lexer": "ipython3",
   "version": "3.13.1"
  }
 },
 "nbformat": 4,
 "nbformat_minor": 2
}
